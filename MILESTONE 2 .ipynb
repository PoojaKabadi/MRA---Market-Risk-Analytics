{
 "cells": [
  {
   "cell_type": "markdown",
   "id": "4fb11f67",
   "metadata": {},
   "source": [
    "## Problem Statement:\n",
    "\n",
    "A Grocery Store shared the transactional data with you. Your job is to identify the most popular combos that can be suggested to the Grocery Store chain after a thorough analysis of the most commonly occurring sets of menu items in the customer orders. The Store doesn’t have any combo meals. Can you suggest the best combo meals?\n",
    "\n",
    "#### Exploratory Analysis\n",
    "\n",
    "- Exploratory Analysis of data & an executive summary (in PPT) of your top findings, supported by graphs.\n",
    "- Are there trends across months/years/quarters/days etc. that you are able to notice?\n",
    "\n",
    "#### Use of Market Basket Analysis (Association Rules)\n",
    "\n",
    "- Write Something about the association rules and their relevance in this case\n",
    "- Add KNIME workflow Image \n",
    "- Write about threshold values of Support and Confidence\n",
    "\n",
    "#### Associations Identified \n",
    "\n",
    "- Put the associations in a tabular manner\n",
    "- Explain about support, confidence, & lift values that are calculated                                 \n",
    "\n",
    "#### A suggestion of Possible Combos with Lucrative Offers\n",
    "\n",
    "- Write recommendations\n",
    "- Make discount offers or combos (or buy two get one free) based on the associations and your experience"
   ]
  },
  {
   "cell_type": "markdown",
   "id": "132ea9a7",
   "metadata": {},
   "source": [
    "### Importing Libraries"
   ]
  },
  {
   "cell_type": "code",
   "execution_count": 33,
   "id": "5138cd00",
   "metadata": {},
   "outputs": [],
   "source": [
    "import numpy as np\n",
    "import pandas as pd\n",
    "import seaborn as sns\n",
    "import matplotlib.pyplot as plt\n",
    "import matplotlib.style\n",
    "sns.set(color_codes=True)\n",
    "%matplotlib inline\n",
    "from warnings import filterwarnings\n",
    "filterwarnings(\"ignore\")"
   ]
  },
  {
   "cell_type": "markdown",
   "id": "34447983",
   "metadata": {},
   "source": [
    "#### Read and view data"
   ]
  },
  {
   "cell_type": "code",
   "execution_count": 3,
   "id": "3bfc2974",
   "metadata": {},
   "outputs": [],
   "source": [
    "df = pd.read_csv(\"dataset_group.csv\")"
   ]
  },
  {
   "cell_type": "code",
   "execution_count": 4,
   "id": "92c7cbd6",
   "metadata": {},
   "outputs": [
    {
     "data": {
      "text/html": [
       "<div>\n",
       "<style scoped>\n",
       "    .dataframe tbody tr th:only-of-type {\n",
       "        vertical-align: middle;\n",
       "    }\n",
       "\n",
       "    .dataframe tbody tr th {\n",
       "        vertical-align: top;\n",
       "    }\n",
       "\n",
       "    .dataframe thead th {\n",
       "        text-align: right;\n",
       "    }\n",
       "</style>\n",
       "<table border=\"1\" class=\"dataframe\">\n",
       "  <thead>\n",
       "    <tr style=\"text-align: right;\">\n",
       "      <th></th>\n",
       "      <th>Date</th>\n",
       "      <th>Order_id</th>\n",
       "      <th>Product</th>\n",
       "    </tr>\n",
       "  </thead>\n",
       "  <tbody>\n",
       "    <tr>\n",
       "      <th>0</th>\n",
       "      <td>01-01-2018</td>\n",
       "      <td>1</td>\n",
       "      <td>yogurt</td>\n",
       "    </tr>\n",
       "    <tr>\n",
       "      <th>1</th>\n",
       "      <td>01-01-2018</td>\n",
       "      <td>1</td>\n",
       "      <td>pork</td>\n",
       "    </tr>\n",
       "    <tr>\n",
       "      <th>2</th>\n",
       "      <td>01-01-2018</td>\n",
       "      <td>1</td>\n",
       "      <td>sandwich bags</td>\n",
       "    </tr>\n",
       "    <tr>\n",
       "      <th>3</th>\n",
       "      <td>01-01-2018</td>\n",
       "      <td>1</td>\n",
       "      <td>lunch meat</td>\n",
       "    </tr>\n",
       "    <tr>\n",
       "      <th>4</th>\n",
       "      <td>01-01-2018</td>\n",
       "      <td>1</td>\n",
       "      <td>all- purpose</td>\n",
       "    </tr>\n",
       "    <tr>\n",
       "      <th>5</th>\n",
       "      <td>01-01-2018</td>\n",
       "      <td>1</td>\n",
       "      <td>flour</td>\n",
       "    </tr>\n",
       "    <tr>\n",
       "      <th>6</th>\n",
       "      <td>01-01-2018</td>\n",
       "      <td>1</td>\n",
       "      <td>soda</td>\n",
       "    </tr>\n",
       "    <tr>\n",
       "      <th>7</th>\n",
       "      <td>01-01-2018</td>\n",
       "      <td>1</td>\n",
       "      <td>butter</td>\n",
       "    </tr>\n",
       "    <tr>\n",
       "      <th>8</th>\n",
       "      <td>01-01-2018</td>\n",
       "      <td>1</td>\n",
       "      <td>beef</td>\n",
       "    </tr>\n",
       "    <tr>\n",
       "      <th>9</th>\n",
       "      <td>01-01-2018</td>\n",
       "      <td>1</td>\n",
       "      <td>aluminum foil</td>\n",
       "    </tr>\n",
       "  </tbody>\n",
       "</table>\n",
       "</div>"
      ],
      "text/plain": [
       "         Date  Order_id        Product\n",
       "0  01-01-2018         1         yogurt\n",
       "1  01-01-2018         1           pork\n",
       "2  01-01-2018         1  sandwich bags\n",
       "3  01-01-2018         1     lunch meat\n",
       "4  01-01-2018         1   all- purpose\n",
       "5  01-01-2018         1          flour\n",
       "6  01-01-2018         1           soda\n",
       "7  01-01-2018         1         butter\n",
       "8  01-01-2018         1           beef\n",
       "9  01-01-2018         1  aluminum foil"
      ]
     },
     "execution_count": 4,
     "metadata": {},
     "output_type": "execute_result"
    }
   ],
   "source": [
    "df.head(10)"
   ]
  },
  {
   "cell_type": "code",
   "execution_count": 34,
   "id": "71d7c367",
   "metadata": {},
   "outputs": [
    {
     "data": {
      "text/plain": [
       "Date         603\n",
       "Order_id    1139\n",
       "Product       37\n",
       "dtype: int64"
      ]
     },
     "execution_count": 34,
     "metadata": {},
     "output_type": "execute_result"
    }
   ],
   "source": [
    "df.nunique()"
   ]
  },
  {
   "cell_type": "markdown",
   "id": "86784ac3",
   "metadata": {},
   "source": [
    "### Data Pre-processing\n",
    "###### Checking for number of rows and columns:"
   ]
  },
  {
   "cell_type": "code",
   "execution_count": 5,
   "id": "8ac8a834",
   "metadata": {},
   "outputs": [
    {
     "name": "stdout",
     "output_type": "stream",
     "text": [
      "no. of rows:  20641 \n",
      "no. of columns:  3\n"
     ]
    }
   ],
   "source": [
    "print(\"no. of rows: \",df.shape[0], \"\\n\"\"no. of columns: \",df.shape[1])"
   ]
  },
  {
   "cell_type": "code",
   "execution_count": 10,
   "id": "f3456284",
   "metadata": {},
   "outputs": [],
   "source": [
    "df_num = df.select_dtypes(['float64','int64','int32'])\n",
    "df_cat = df.select_dtypes(['object'])"
   ]
  },
  {
   "cell_type": "markdown",
   "id": "6633829a",
   "metadata": {},
   "source": [
    "###### Cheching data type of data features:"
   ]
  },
  {
   "cell_type": "code",
   "execution_count": 11,
   "id": "0a75f06c",
   "metadata": {},
   "outputs": [
    {
     "name": "stdout",
     "output_type": "stream",
     "text": [
      "<class 'pandas.core.frame.DataFrame'>\n",
      "RangeIndex: 20641 entries, 0 to 20640\n",
      "Data columns (total 3 columns):\n",
      " #   Column    Non-Null Count  Dtype \n",
      "---  ------    --------------  ----- \n",
      " 0   Date      20641 non-null  object\n",
      " 1   Order_id  20641 non-null  int64 \n",
      " 2   Product   20641 non-null  object\n",
      "dtypes: int64(1), object(2)\n",
      "memory usage: 483.9+ KB\n"
     ]
    }
   ],
   "source": [
    "df.info()"
   ]
  },
  {
   "cell_type": "markdown",
   "id": "475802df",
   "metadata": {},
   "source": [
    "###### Checking for Null and missing values in the dataset :"
   ]
  },
  {
   "cell_type": "code",
   "execution_count": 12,
   "id": "4dada9c2",
   "metadata": {},
   "outputs": [
    {
     "data": {
      "text/plain": [
       "Date        0\n",
       "Order_id    0\n",
       "Product     0\n",
       "dtype: int64"
      ]
     },
     "execution_count": 12,
     "metadata": {},
     "output_type": "execute_result"
    }
   ],
   "source": [
    "df.isnull().sum()"
   ]
  },
  {
   "cell_type": "markdown",
   "id": "816ca5a2",
   "metadata": {},
   "source": [
    "###### Checking the description of dataset"
   ]
  },
  {
   "cell_type": "code",
   "execution_count": 16,
   "id": "5f5d6bb1",
   "metadata": {},
   "outputs": [
    {
     "data": {
      "text/html": [
       "<div>\n",
       "<style scoped>\n",
       "    .dataframe tbody tr th:only-of-type {\n",
       "        vertical-align: middle;\n",
       "    }\n",
       "\n",
       "    .dataframe tbody tr th {\n",
       "        vertical-align: top;\n",
       "    }\n",
       "\n",
       "    .dataframe thead th {\n",
       "        text-align: right;\n",
       "    }\n",
       "</style>\n",
       "<table border=\"1\" class=\"dataframe\">\n",
       "  <thead>\n",
       "    <tr style=\"text-align: right;\">\n",
       "      <th></th>\n",
       "      <th>Order_id</th>\n",
       "    </tr>\n",
       "  </thead>\n",
       "  <tbody>\n",
       "    <tr>\n",
       "      <th>count</th>\n",
       "      <td>20641.000000</td>\n",
       "    </tr>\n",
       "    <tr>\n",
       "      <th>mean</th>\n",
       "      <td>575.986289</td>\n",
       "    </tr>\n",
       "    <tr>\n",
       "      <th>std</th>\n",
       "      <td>328.557078</td>\n",
       "    </tr>\n",
       "    <tr>\n",
       "      <th>min</th>\n",
       "      <td>1.000000</td>\n",
       "    </tr>\n",
       "    <tr>\n",
       "      <th>25%</th>\n",
       "      <td>292.000000</td>\n",
       "    </tr>\n",
       "    <tr>\n",
       "      <th>50%</th>\n",
       "      <td>581.000000</td>\n",
       "    </tr>\n",
       "    <tr>\n",
       "      <th>75%</th>\n",
       "      <td>862.000000</td>\n",
       "    </tr>\n",
       "    <tr>\n",
       "      <th>max</th>\n",
       "      <td>1139.000000</td>\n",
       "    </tr>\n",
       "  </tbody>\n",
       "</table>\n",
       "</div>"
      ],
      "text/plain": [
       "           Order_id\n",
       "count  20641.000000\n",
       "mean     575.986289\n",
       "std      328.557078\n",
       "min        1.000000\n",
       "25%      292.000000\n",
       "50%      581.000000\n",
       "75%      862.000000\n",
       "max     1139.000000"
      ]
     },
     "execution_count": 16,
     "metadata": {},
     "output_type": "execute_result"
    }
   ],
   "source": [
    "df.describe()"
   ]
  },
  {
   "cell_type": "code",
   "execution_count": 15,
   "id": "fb633721",
   "metadata": {},
   "outputs": [
    {
     "data": {
      "text/html": [
       "<div>\n",
       "<style scoped>\n",
       "    .dataframe tbody tr th:only-of-type {\n",
       "        vertical-align: middle;\n",
       "    }\n",
       "\n",
       "    .dataframe tbody tr th {\n",
       "        vertical-align: top;\n",
       "    }\n",
       "\n",
       "    .dataframe thead th {\n",
       "        text-align: right;\n",
       "    }\n",
       "</style>\n",
       "<table border=\"1\" class=\"dataframe\">\n",
       "  <thead>\n",
       "    <tr style=\"text-align: right;\">\n",
       "      <th></th>\n",
       "      <th>Date</th>\n",
       "      <th>Product</th>\n",
       "    </tr>\n",
       "  </thead>\n",
       "  <tbody>\n",
       "    <tr>\n",
       "      <th>count</th>\n",
       "      <td>20641</td>\n",
       "      <td>20641</td>\n",
       "    </tr>\n",
       "    <tr>\n",
       "      <th>unique</th>\n",
       "      <td>603</td>\n",
       "      <td>37</td>\n",
       "    </tr>\n",
       "    <tr>\n",
       "      <th>top</th>\n",
       "      <td>08-02-2019</td>\n",
       "      <td>poultry</td>\n",
       "    </tr>\n",
       "    <tr>\n",
       "      <th>freq</th>\n",
       "      <td>183</td>\n",
       "      <td>640</td>\n",
       "    </tr>\n",
       "  </tbody>\n",
       "</table>\n",
       "</div>"
      ],
      "text/plain": [
       "              Date  Product\n",
       "count        20641    20641\n",
       "unique         603       37\n",
       "top     08-02-2019  poultry\n",
       "freq           183      640"
      ]
     },
     "execution_count": 15,
     "metadata": {},
     "output_type": "execute_result"
    }
   ],
   "source": [
    "df_cat.describe()"
   ]
  },
  {
   "cell_type": "markdown",
   "id": "63214c0a",
   "metadata": {},
   "source": [
    "###### unique values for categorical variables:"
   ]
  },
  {
   "cell_type": "code",
   "execution_count": 17,
   "id": "5bea46f8",
   "metadata": {
    "scrolled": false
   },
   "outputs": [
    {
     "name": "stdout",
     "output_type": "stream",
     "text": [
      "DATE :  603\n",
      "26-02-2020      3\n",
      "05-09-2019      4\n",
      "24-09-2018      4\n",
      "11-03-2019      4\n",
      "03-09-2019      5\n",
      "             ... \n",
      "17-05-2018    123\n",
      "01-03-2018    127\n",
      "06-03-2018    134\n",
      "20-02-2019    146\n",
      "08-02-2019    183\n",
      "Name: Date, Length: 603, dtype: int64\n",
      "\n",
      "\n",
      "PRODUCT :  37\n",
      "hand soap                       502\n",
      "sandwich loaves                 523\n",
      "fruits                          529\n",
      "pork                            531\n",
      "sugar                           533\n",
      "sandwich bags                   536\n",
      "spaghetti sauce                 536\n",
      "pasta                           542\n",
      "laundry detergent               542\n",
      "tortillas                       543\n",
      "individual meals                544\n",
      "yogurt                          545\n",
      "ketchup                         548\n",
      "dishwashing liquid/detergent    551\n",
      "all- purpose                    551\n",
      "mixes                           554\n",
      "milk                            555\n",
      "flour                           555\n",
      "butter                          555\n",
      "paper towels                    556\n",
      "beef                            561\n",
      "shampoo                         562\n",
      "coffee/tea                      565\n",
      "aluminum foil                   566\n",
      "dinner rolls                    567\n",
      "toilet paper                    569\n",
      "juice                           570\n",
      "eggs                            570\n",
      "bagels                          573\n",
      "lunch meat                      573\n",
      "soap                            574\n",
      "waffles                         575\n",
      "cheeses                         578\n",
      "ice cream                       579\n",
      "cereals                         591\n",
      "soda                            597\n",
      "poultry                         640\n",
      "Name: Product, dtype: int64\n",
      "\n",
      "\n"
     ]
    }
   ],
   "source": [
    "for column in df.columns:\n",
    "    if df[column].dtype == 'object':\n",
    "        print(column.upper(),': ',df[column].nunique())\n",
    "        print(df[column].value_counts().sort_values())\n",
    "        print('\\n')"
   ]
  },
  {
   "cell_type": "markdown",
   "id": "1d539166",
   "metadata": {},
   "source": [
    "###### Checking for skewness in this dataset :"
   ]
  },
  {
   "cell_type": "code",
   "execution_count": 19,
   "id": "03cb3ad9",
   "metadata": {},
   "outputs": [
    {
     "data": {
      "text/plain": [
       "Order_id   -0.02807\n",
       "dtype: float64"
      ]
     },
     "execution_count": 19,
     "metadata": {},
     "output_type": "execute_result"
    }
   ],
   "source": [
    "df.skew()"
   ]
  },
  {
   "cell_type": "markdown",
   "id": "ff8569ca",
   "metadata": {},
   "source": [
    "## Data Visualization:\n",
    "### Univariate Analysis for Numeric Variable"
   ]
  },
  {
   "cell_type": "code",
   "execution_count": 20,
   "id": "468dcca2",
   "metadata": {},
   "outputs": [],
   "source": [
    "df_num = df.select_dtypes(['float64','int64','int32'])\n",
    "df_cat = df.select_dtypes(['object'])"
   ]
  },
  {
   "cell_type": "code",
   "execution_count": 21,
   "id": "5a726590",
   "metadata": {},
   "outputs": [],
   "source": [
    "def univariateAnalysis_numeric(column,nbins):\n",
    "    print(\"Description of \" + column)\n",
    "    print(\"----------------------------------------------------------------------------\")\n",
    "    print(df[column].describe(),end=' ')\n",
    "    \n",
    "    \n",
    "    plt.figure()\n",
    "    print(\"Distribution of \" + column)\n",
    "    print(\"----------------------------------------------------------------------------\")\n",
    "    sns.distplot(df[column], kde= True, bins=nbins, color= 'orange');\n",
    "    plt.show()\n",
    "    \n",
    "    plt.figure()\n",
    "    print(\"BoxPlot of \" + column)\n",
    "    print(\"----------------------------------------------------------------------------\")\n",
    "    ax = sns.boxplot(x=df[column], color= 'orange')\n",
    "    \n",
    "    plt.show()"
   ]
  },
  {
   "cell_type": "code",
   "execution_count": 22,
   "id": "964b6d59",
   "metadata": {},
   "outputs": [
    {
     "data": {
      "text/plain": [
       "1"
      ]
     },
     "execution_count": 22,
     "metadata": {},
     "output_type": "execute_result"
    }
   ],
   "source": [
    "lstnumericcolumns = list(df_num.columns.values)\n",
    "len(lstnumericcolumns)"
   ]
  },
  {
   "cell_type": "code",
   "execution_count": 23,
   "id": "2c9dc0e5",
   "metadata": {
    "scrolled": false
   },
   "outputs": [
    {
     "name": "stdout",
     "output_type": "stream",
     "text": [
      "Description of Order_id\n",
      "----------------------------------------------------------------------------\n",
      "count    20641.000000\n",
      "mean       575.986289\n",
      "std        328.557078\n",
      "min          1.000000\n",
      "25%        292.000000\n",
      "50%        581.000000\n",
      "75%        862.000000\n",
      "max       1139.000000\n",
      "Name: Order_id, dtype: float64 Distribution of Order_id\n",
      "----------------------------------------------------------------------------\n"
     ]
    },
    {
     "data": {
      "image/png": "[encoded data removed]",
      "text/plain": [
       "<Figure size 432x288 with 1 Axes>"
      ]
     },
     "metadata": {
      "needs_background": "light"
     },
     "output_type": "display_data"
    },
    {
     "name": "stdout",
     "output_type": "stream",
     "text": [
      "BoxPlot of Order_id\n",
      "----------------------------------------------------------------------------\n"
     ]
    },
    {
     "data": {
      "image/png": "[encoded data removed]",
      "text/plain": [
       "<Figure size 432x288 with 1 Axes>"
      ]
     },
     "metadata": {
      "needs_background": "light"
     },
     "output_type": "display_data"
    }
   ],
   "source": [
    "for x in lstnumericcolumns:\n",
    "    univariateAnalysis_numeric(x,20)"
   ]
  },
  {
   "cell_type": "markdown",
   "id": "e814daa5",
   "metadata": {},
   "source": [
    "### Univariate Analysis for Cateforical Variables:"
   ]
  },
  {
   "cell_type": "code",
   "execution_count": 27,
   "id": "99018cb3",
   "metadata": {},
   "outputs": [],
   "source": [
    "def univariateAnalysis_category(cat_column):\n",
    "    print(\"Details of \" + cat_column)\n",
    "    print(\"----------------------------------------------------------------\")\n",
    "    print(df_cat[cat_column].value_counts())\n",
    "    plt.figure()\n",
    "    df_cat[cat_column].value_counts().plot.bar(title=\"Frequency Distribution of \" + cat_column, color= 'orange')\n",
    "    plt.xticks(rotation=90)\n",
    "    plt.show()\n",
    "    print(\"       \")"
   ]
  },
  {
   "cell_type": "code",
   "execution_count": 28,
   "id": "7a1b9426",
   "metadata": {},
   "outputs": [
    {
     "data": {
      "text/plain": [
       "2"
      ]
     },
     "execution_count": 28,
     "metadata": {},
     "output_type": "execute_result"
    }
   ],
   "source": [
    "lstcatcolumns = list(df_cat.columns.values)\n",
    "len(lstcatcolumns)"
   ]
  },
  {
   "cell_type": "code",
   "execution_count": 29,
   "id": "4e610af3",
   "metadata": {
    "scrolled": false
   },
   "outputs": [
    {
     "name": "stdout",
     "output_type": "stream",
     "text": [
      "Details of Date\n",
      "----------------------------------------------------------------\n",
      "08-02-2019    183\n",
      "20-02-2019    146\n",
      "06-03-2018    134\n",
      "01-03-2018    127\n",
      "17-05-2018    123\n",
      "             ... \n",
      "03-09-2019      5\n",
      "05-09-2019      4\n",
      "11-03-2019      4\n",
      "24-09-2018      4\n",
      "26-02-2020      3\n",
      "Name: Date, Length: 603, dtype: int64\n"
     ]
    },
    {
     "data": {
      "image/png": "[encoded data removed]",
      "text/plain": [
       "<Figure size 432x288 with 1 Axes>"
      ]
     },
     "metadata": {
      "needs_background": "light"
     },
     "output_type": "display_data"
    },
    {
     "name": "stdout",
     "output_type": "stream",
     "text": [
      "       \n",
      "Details of Product\n",
      "----------------------------------------------------------------\n",
      "poultry                         640\n",
      "soda                            597\n",
      "cereals                         591\n",
      "ice cream                       579\n",
      "cheeses                         578\n",
      "waffles                         575\n",
      "soap                            574\n",
      "lunch meat                      573\n",
      "bagels                          573\n",
      "eggs                            570\n",
      "juice                           570\n",
      "toilet paper                    569\n",
      "dinner rolls                    567\n",
      "aluminum foil                   566\n",
      "coffee/tea                      565\n",
      "shampoo                         562\n",
      "beef                            561\n",
      "paper towels                    556\n",
      "butter                          555\n",
      "milk                            555\n",
      "flour                           555\n",
      "mixes                           554\n",
      "all- purpose                    551\n",
      "dishwashing liquid/detergent    551\n",
      "ketchup                         548\n",
      "yogurt                          545\n",
      "individual meals                544\n",
      "tortillas                       543\n",
      "laundry detergent               542\n",
      "pasta                           542\n",
      "spaghetti sauce                 536\n",
      "sandwich bags                   536\n",
      "sugar                           533\n",
      "pork                            531\n",
      "fruits                          529\n",
      "sandwich loaves                 523\n",
      "hand soap                       502\n",
      "Name: Product, dtype: int64\n"
     ]
    },
    {
     "data": {
      "image/png": "[encoded data removed]",
      "text/plain": [
       "<Figure size 432x288 with 1 Axes>"
      ]
     },
     "metadata": {
      "needs_background": "light"
     },
     "output_type": "display_data"
    },
    {
     "name": "stdout",
     "output_type": "stream",
     "text": [
      "       \n"
     ]
    }
   ],
   "source": [
    "for x in lstcatcolumns:\n",
    "    univariateAnalysis_category(x)"
   ]
  },
  {
   "cell_type": "markdown",
   "id": "4e55da0b",
   "metadata": {},
   "source": [
    "### Bivariate Analysis"
   ]
  },
  {
   "cell_type": "markdown",
   "id": "fa47d1b2",
   "metadata": {},
   "source": [
    "### Outlier check"
   ]
  },
  {
   "cell_type": "code",
   "execution_count": 30,
   "id": "4d428d4f",
   "metadata": {},
   "outputs": [
    {
     "data": {
      "image/png": "[encoded data removed]",
      "text/plain": [
       "<Figure size 1440x720 with 1 Axes>"
      ]
     },
     "metadata": {
      "needs_background": "light"
     },
     "output_type": "display_data"
    }
   ],
   "source": [
    "plt.figure(figsize = (20,10))\n",
    "feature_list = df_num.columns\n",
    "for i in range(len(feature_list)):\n",
    "    plt.subplot(2,7, i + 1)\n",
    "    sns.boxplot(y = df_num[feature_list[i]], data = df_num, palette='gray_r')\n",
    "    plt.tight_layout()"
   ]
  }
 ],
 "metadata": {
  "kernelspec": {
   "display_name": "Python 3",
   "language": "python",
   "name": "python3"
  },
  "language_info": {
   "codemirror_mode": {
    "name": "ipython",
    "version": 3
   },
   "file_extension": ".py",
   "mimetype": "text/x-python",
   "name": "python",
   "nbconvert_exporter": "python",
   "pygments_lexer": "ipython3",
   "version": "3.8.8"
  }
 },
 "nbformat": 4,
 "nbformat_minor": 5
}
